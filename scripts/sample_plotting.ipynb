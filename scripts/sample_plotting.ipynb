{
 "cells": [
  {
   "cell_type": "code",
   "execution_count": 1,
   "metadata": {},
   "outputs": [],
   "source": [
    "import os\n",
    "import sys\n",
    "import numpy as np\n",
    "import SimpleITK as sitk\n",
    "import torch\n",
    "import pytorch_lightning as pl\n",
    "\n",
    "# Move to top of ArtifactNet directory so relative imports can be used here\n",
    "sys.path.insert(0, \"/cluster/home/carrowsm/ArtifactNet\")"
   ]
  },
  {
   "cell_type": "markdown",
   "metadata": {},
   "source": [
    "# Plotting Sample Images\n",
    "Use this notebook to load different models and pass sample images to them.\n",
    "\n",
    "## Define functions to load the PyTorch-Lightning models and the dataloaders"
   ]
  },
  {
   "cell_type": "code",
   "execution_count": 2,
   "metadata": {},
   "outputs": [],
   "source": [
    "def load_model(module: pl.LightningModule, checkpoint_path: str) :\n",
    "    model = module.load_from_checkpoint(PATH)\n",
    "\n",
    "    print(model.learning_rate)\n",
    "    # prints the learning_rate you used in this checkpoint\n",
    "\n",
    "    model.eval()\n",
    "    return model"
   ]
  },
  {
   "cell_type": "code",
   "execution_count": 3,
   "metadata": {},
   "outputs": [
    {
     "ename": "ImportError",
     "evalue": "cannot import name 'load_img_names' from 'data.data_loader' (/cluster/home/carrowsm/ArtifactNet/data/data_loader.py)",
     "output_type": "error",
     "traceback": [
      "\u001b[0;31m---------------------------------------------------------------------------\u001b[0m",
      "\u001b[0;31mImportError\u001b[0m                               Traceback (most recent call last)",
      "\u001b[0;32m<ipython-input-3-04a00aa89825>\u001b[0m in \u001b[0;36m<module>\u001b[0;34m\u001b[0m\n\u001b[1;32m      1\u001b[0m \u001b[0;31m# Import dataloaders\u001b[0m\u001b[0;34m\u001b[0m\u001b[0;34m\u001b[0m\u001b[0;34m\u001b[0m\u001b[0m\n\u001b[1;32m      2\u001b[0m \u001b[0;32mfrom\u001b[0m \u001b[0mdata\u001b[0m\u001b[0;34m.\u001b[0m\u001b[0mdata_loader\u001b[0m \u001b[0;32mimport\u001b[0m \u001b[0mPairedDataset\u001b[0m\u001b[0;34m,\u001b[0m \u001b[0mUnpairedDataset\u001b[0m\u001b[0;34m\u001b[0m\u001b[0;34m\u001b[0m\u001b[0m\n\u001b[0;32m----> 3\u001b[0;31m \u001b[0;32mfrom\u001b[0m \u001b[0mcycleGAN\u001b[0m \u001b[0;32mimport\u001b[0m \u001b[0mGAN\u001b[0m\u001b[0;34m\u001b[0m\u001b[0;34m\u001b[0m\u001b[0m\n\u001b[0m",
      "\u001b[0;32m~/ArtifactNet/cycleGAN.py\u001b[0m in \u001b[0;36m<module>\u001b[0;34m\u001b[0m\n\u001b[1;32m     30\u001b[0m \u001b[0;32mfrom\u001b[0m \u001b[0mconfig\u001b[0m\u001b[0;34m.\u001b[0m\u001b[0moptions\u001b[0m \u001b[0;32mimport\u001b[0m \u001b[0mget_args\u001b[0m\u001b[0;34m\u001b[0m\u001b[0;34m\u001b[0m\u001b[0m\n\u001b[1;32m     31\u001b[0m \u001b[0;34m\u001b[0m\u001b[0m\n\u001b[0;32m---> 32\u001b[0;31m \u001b[0;32mfrom\u001b[0m \u001b[0mdata\u001b[0m\u001b[0;34m.\u001b[0m\u001b[0mdata_loader\u001b[0m \u001b[0;32mimport\u001b[0m \u001b[0mload_image_data_frame\u001b[0m\u001b[0;34m,\u001b[0m \u001b[0mload_img_names\u001b[0m\u001b[0;34m,\u001b[0m \u001b[0mUnpairedDataset\u001b[0m\u001b[0;34m\u001b[0m\u001b[0;34m\u001b[0m\u001b[0m\n\u001b[0m\u001b[1;32m     33\u001b[0m \u001b[0;34m\u001b[0m\u001b[0m\n\u001b[1;32m     34\u001b[0m \u001b[0;32mfrom\u001b[0m \u001b[0mmodels\u001b[0m\u001b[0;34m.\u001b[0m\u001b[0mgenerators\u001b[0m \u001b[0;32mimport\u001b[0m \u001b[0mUNet3D\u001b[0m\u001b[0;34m,\u001b[0m \u001b[0mResNetK\u001b[0m\u001b[0;34m,\u001b[0m \u001b[0mUNet2D\u001b[0m\u001b[0;34m,\u001b[0m \u001b[0mUNet3D_3layer\u001b[0m\u001b[0;34m\u001b[0m\u001b[0;34m\u001b[0m\u001b[0m\n",
      "\u001b[0;31mImportError\u001b[0m: cannot import name 'load_img_names' from 'data.data_loader' (/cluster/home/carrowsm/ArtifactNet/data/data_loader.py)"
     ]
    }
   ],
   "source": [
    "# Import dataloaders\n",
    "from data.data_loader import PairedDataset, UnpairedDataset\n",
    "from cycleGAN import GAN"
   ]
  }
 ],
 "metadata": {
  "kernelspec": {
   "display_name": "DAnet",
   "language": "python",
   "name": "danet"
  },
  "language_info": {
   "codemirror_mode": {
    "name": "ipython",
    "version": 3
   },
   "file_extension": ".py",
   "mimetype": "text/x-python",
   "name": "python",
   "nbconvert_exporter": "python",
   "pygments_lexer": "ipython3",
   "version": "3.7.6"
  }
 },
 "nbformat": 4,
 "nbformat_minor": 4
}
